{
 "cells": [
  {
   "cell_type": "code",
   "execution_count": 1,
   "metadata": {
    "collapsed": true
   },
   "outputs": [],
   "source": [
    "txt = '''\n",
    "/*\n",
    " * Copyright (c) 2017, Ford Motor Company\n",
    " * All rights reserved.\n",
    " *\n",
    " * Redistribution and use in source and binary forms, with or without\n",
    " * modification, are permitted provided that the following conditions are met:\n",
    " *\n",
    " * Redistributions of source code must retain the above copyright notice, this\n",
    " * list of conditions and the following disclaimer.\n",
    " *\n",
    " * Redistributions in binary form must reproduce the above copyright notice,\n",
    " * this list of conditions and the following\n",
    " * disclaimer in the documentation and/or other materials provided with the\n",
    " * distribution.\n",
    " *\n",
    " * Neither the name of the Ford Motor Company nor the names of its contributors\n",
    " * may be used to endorse or promote products derived from this software\n",
    " * without specific prior written permission.\n",
    " *\n",
    " * THIS SOFTWARE IS PROVIDED BY THE COPYRIGHT HOLDERS AND CONTRIBUTORS \"AS IS\"\n",
    " * AND ANY EXPRESS OR IMPLIED WARRANTIES, INCLUDING, BUT NOT LIMITED TO, THE\n",
    " * IMPLIED WARRANTIES OF MERCHANTABILITY AND FITNESS FOR A PARTICULAR PURPOSE\n",
    " * ARE DISCLAIMED. IN NO EVENT SHALL THE COPYRIGHT HOLDER OR CONTRIBUTORS BE\n",
    " * LIABLE FOR ANY DIRECT, INDIRECT, INCIDENTAL, SPECIAL, EXEMPLARY, OR\n",
    " * CONSEQUENTIAL DAMAGES (INCLUDING, BUT NOT LIMITED TO, PROCUREMENT OF\n",
    " * SUBSTITUTE GOODS OR SERVICES; LOSS OF USE, DATA, OR PROFITS; OR BUSINESS\n",
    " * INTERRUPTION) HOWEVER CAUSED AND ON ANY THEORY OF LIABILITY, WHETHER IN\n",
    " * CONTRACT, STRICT LIABILITY, OR TORT (INCLUDING NEGLIGENCE OR OTHERWISE)\n",
    " * ARISING IN ANY WAY OUT OF THE USE OF THIS SOFTWARE, EVEN IF ADVISED OF THE\n",
    " * POSSIBILITY OF SUCH DAMAGE.\n",
    " */\n",
    "'''"
   ]
  },
  {
   "cell_type": "code",
   "execution_count": 8,
   "metadata": {},
   "outputs": [
    {
     "name": "stdout",
     "output_type": "stream",
     "text": [
      "u'''\\n'''\n",
      "u'''/*\\n'''\n",
      "u'''* Copyright (c) 2017, Ford Motor Company\\n'''\n",
      "u'''* All rights reserved.\\n'''\n",
      "u'''*\\n'''\n",
      "u'''* Redistribution and use in source and binary forms, with or without\\n'''\n",
      "u'''* modification, are permitted provided that the following conditions are met:\\n'''\n",
      "u'''*\\n'''\n",
      "u'''* Redistributions of source code must retain the above copyright notice, this\\n'''\n",
      "u'''* list of conditions and the following disclaimer.\\n'''\n",
      "u'''*\\n'''\n",
      "u'''* Redistributions in binary form must reproduce the above copyright notice,\\n'''\n",
      "u'''* this list of conditions and the following\\n'''\n",
      "u'''* disclaimer in the documentation and/or other materials provided with the\\n'''\n",
      "u'''* distribution.\\n'''\n",
      "u'''*\\n'''\n",
      "u'''* Neither the name of the Ford Motor Company nor the names of its contributors\\n'''\n",
      "u'''* may be used to endorse or promote products derived from this software\\n'''\n",
      "u'''* without specific prior written permission.\\n'''\n",
      "u'''*\\n'''\n",
      "u'''* THIS SOFTWARE IS PROVIDED BY THE COPYRIGHT HOLDERS AND CONTRIBUTORS \"AS IS\"\\n'''\n",
      "u'''* AND ANY EXPRESS OR IMPLIED WARRANTIES, INCLUDING, BUT NOT LIMITED TO, THE\\n'''\n",
      "u'''* IMPLIED WARRANTIES OF MERCHANTABILITY AND FITNESS FOR A PARTICULAR PURPOSE\\n'''\n",
      "u'''* ARE DISCLAIMED. IN NO EVENT SHALL THE COPYRIGHT HOLDER OR CONTRIBUTORS BE\\n'''\n",
      "u'''* LIABLE FOR ANY DIRECT, INDIRECT, INCIDENTAL, SPECIAL, EXEMPLARY, OR\\n'''\n",
      "u'''* CONSEQUENTIAL DAMAGES (INCLUDING, BUT NOT LIMITED TO, PROCUREMENT OF\\n'''\n",
      "u'''* SUBSTITUTE GOODS OR SERVICES; LOSS OF USE, DATA, OR PROFITS; OR BUSINESS\\n'''\n",
      "u'''* INTERRUPTION) HOWEVER CAUSED AND ON ANY THEORY OF LIABILITY, WHETHER IN\\n'''\n",
      "u'''* CONTRACT, STRICT LIABILITY, OR TORT (INCLUDING NEGLIGENCE OR OTHERWISE)\\n'''\n",
      "u'''* ARISING IN ANY WAY OUT OF THE USE OF THIS SOFTWARE, EVEN IF ADVISED OF THE\\n'''\n",
      "u'''* POSSIBILITY OF SUCH DAMAGE.\\n'''\n",
      "u'''*/\\n'''\n",
      "u'''\\n'''\n"
     ]
    }
   ],
   "source": [
    "for x in txt.split(\"\\n\"):\n",
    "    print (\"u'''{}\\\\n'''\".format(x.strip()))"
   ]
  },
  {
   "cell_type": "code",
   "execution_count": null,
   "metadata": {
    "collapsed": true
   },
   "outputs": [],
   "source": []
  }
 ],
 "metadata": {
  "kernelspec": {
   "display_name": "Python 2",
   "language": "python",
   "name": "python2"
  },
  "language_info": {
   "codemirror_mode": {
    "name": "ipython",
    "version": 2
   },
   "file_extension": ".py",
   "mimetype": "text/x-python",
   "name": "python",
   "nbconvert_exporter": "python",
   "pygments_lexer": "ipython2",
   "version": "2.7.12"
  }
 },
 "nbformat": 4,
 "nbformat_minor": 2
}
